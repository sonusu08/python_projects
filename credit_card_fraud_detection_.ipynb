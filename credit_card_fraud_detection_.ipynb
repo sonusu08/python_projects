{
  "nbformat": 4,
  "nbformat_minor": 0,
  "metadata": {
    "colab": {
      "name": "Copy of credit_card_fraud_detection.",
      "provenance": [],
      "collapsed_sections": []
    },
    "kernelspec": {
      "name": "python3",
      "display_name": "Python 3"
    },
    "language_info": {
      "name": "python"
    }
  },
  "cells": [
    {
      "cell_type": "code",
      "metadata": {
        "id": "DmmwIZH5SFdd"
      },
      "source": [
        "import numpy as np\n",
        "#!pip install pandas==0.23.4\n",
        "import pandas as pd\n",
        "#pd.__version__\n",
        "from sklearn.model_selection import train_test_split\n",
        "from sklearn.linear_model import LogisticRegression\n",
        "from sklearn.metrics import accuracy_score"
      ],
      "execution_count": 14,
      "outputs": []
    },
    {
      "cell_type": "code",
      "metadata": {
        "id": "oUwroCknU92X"
      },
      "source": [
        "# load dataset tom pandas dataframe\n",
        "credit_card_data=pd.read_csv('/content/creditcard.csv')"
      ],
      "execution_count": 15,
      "outputs": []
    },
    {
      "cell_type": "code",
      "metadata": {
        "colab": {
          "base_uri": "https://localhost:8080/",
          "height": 224
        },
        "id": "AzghOKmWeVuc",
        "outputId": "b77cc392-fac3-4ed4-b461-f4615b852a95"
      },
      "source": [
        "credit_card_data.head()"
      ],
      "execution_count": 16,
      "outputs": [
        {
          "output_type": "execute_result",
          "data": {
            "text/html": [
              "<div>\n",
              "<style scoped>\n",
              "    .dataframe tbody tr th:only-of-type {\n",
              "        vertical-align: middle;\n",
              "    }\n",
              "\n",
              "    .dataframe tbody tr th {\n",
              "        vertical-align: top;\n",
              "    }\n",
              "\n",
              "    .dataframe thead th {\n",
              "        text-align: right;\n",
              "    }\n",
              "</style>\n",
              "<table border=\"1\" class=\"dataframe\">\n",
              "  <thead>\n",
              "    <tr style=\"text-align: right;\">\n",
              "      <th></th>\n",
              "      <th>Time</th>\n",
              "      <th>V1</th>\n",
              "      <th>V2</th>\n",
              "      <th>V3</th>\n",
              "      <th>V4</th>\n",
              "      <th>V5</th>\n",
              "      <th>V6</th>\n",
              "      <th>V7</th>\n",
              "      <th>V8</th>\n",
              "      <th>V9</th>\n",
              "      <th>V10</th>\n",
              "      <th>V11</th>\n",
              "      <th>V12</th>\n",
              "      <th>V13</th>\n",
              "      <th>V14</th>\n",
              "      <th>V15</th>\n",
              "      <th>V16</th>\n",
              "      <th>V17</th>\n",
              "      <th>V18</th>\n",
              "      <th>V19</th>\n",
              "      <th>V20</th>\n",
              "      <th>V21</th>\n",
              "      <th>V22</th>\n",
              "      <th>V23</th>\n",
              "      <th>V24</th>\n",
              "      <th>V25</th>\n",
              "      <th>V26</th>\n",
              "      <th>V27</th>\n",
              "      <th>V28</th>\n",
              "      <th>Amount</th>\n",
              "      <th>Class</th>\n",
              "    </tr>\n",
              "  </thead>\n",
              "  <tbody>\n",
              "    <tr>\n",
              "      <th>0</th>\n",
              "      <td>0</td>\n",
              "      <td>-1.359807</td>\n",
              "      <td>-0.072781</td>\n",
              "      <td>2.536347</td>\n",
              "      <td>1.378155</td>\n",
              "      <td>-0.338321</td>\n",
              "      <td>0.462388</td>\n",
              "      <td>0.239599</td>\n",
              "      <td>0.098698</td>\n",
              "      <td>0.363787</td>\n",
              "      <td>0.090794</td>\n",
              "      <td>-0.551600</td>\n",
              "      <td>-0.617801</td>\n",
              "      <td>-0.991390</td>\n",
              "      <td>-0.311169</td>\n",
              "      <td>1.468177</td>\n",
              "      <td>-0.470401</td>\n",
              "      <td>0.207971</td>\n",
              "      <td>0.025791</td>\n",
              "      <td>0.403993</td>\n",
              "      <td>0.251412</td>\n",
              "      <td>-0.018307</td>\n",
              "      <td>0.277838</td>\n",
              "      <td>-0.110474</td>\n",
              "      <td>0.066928</td>\n",
              "      <td>0.128539</td>\n",
              "      <td>-0.189115</td>\n",
              "      <td>0.133558</td>\n",
              "      <td>-0.021053</td>\n",
              "      <td>149.62</td>\n",
              "      <td>0.0</td>\n",
              "    </tr>\n",
              "    <tr>\n",
              "      <th>1</th>\n",
              "      <td>0</td>\n",
              "      <td>1.191857</td>\n",
              "      <td>0.266151</td>\n",
              "      <td>0.166480</td>\n",
              "      <td>0.448154</td>\n",
              "      <td>0.060018</td>\n",
              "      <td>-0.082361</td>\n",
              "      <td>-0.078803</td>\n",
              "      <td>0.085102</td>\n",
              "      <td>-0.255425</td>\n",
              "      <td>-0.166974</td>\n",
              "      <td>1.612727</td>\n",
              "      <td>1.065235</td>\n",
              "      <td>0.489095</td>\n",
              "      <td>-0.143772</td>\n",
              "      <td>0.635558</td>\n",
              "      <td>0.463917</td>\n",
              "      <td>-0.114805</td>\n",
              "      <td>-0.183361</td>\n",
              "      <td>-0.145783</td>\n",
              "      <td>-0.069083</td>\n",
              "      <td>-0.225775</td>\n",
              "      <td>-0.638672</td>\n",
              "      <td>0.101288</td>\n",
              "      <td>-0.339846</td>\n",
              "      <td>0.167170</td>\n",
              "      <td>0.125895</td>\n",
              "      <td>-0.008983</td>\n",
              "      <td>0.014724</td>\n",
              "      <td>2.69</td>\n",
              "      <td>0.0</td>\n",
              "    </tr>\n",
              "    <tr>\n",
              "      <th>2</th>\n",
              "      <td>1</td>\n",
              "      <td>-1.358354</td>\n",
              "      <td>-1.340163</td>\n",
              "      <td>1.773209</td>\n",
              "      <td>0.379780</td>\n",
              "      <td>-0.503198</td>\n",
              "      <td>1.800499</td>\n",
              "      <td>0.791461</td>\n",
              "      <td>0.247676</td>\n",
              "      <td>-1.514654</td>\n",
              "      <td>0.207643</td>\n",
              "      <td>0.624501</td>\n",
              "      <td>0.066084</td>\n",
              "      <td>0.717293</td>\n",
              "      <td>-0.165946</td>\n",
              "      <td>2.345865</td>\n",
              "      <td>-2.890083</td>\n",
              "      <td>1.109969</td>\n",
              "      <td>-0.121359</td>\n",
              "      <td>-2.261857</td>\n",
              "      <td>0.524980</td>\n",
              "      <td>0.247998</td>\n",
              "      <td>0.771679</td>\n",
              "      <td>0.909412</td>\n",
              "      <td>-0.689281</td>\n",
              "      <td>-0.327642</td>\n",
              "      <td>-0.139097</td>\n",
              "      <td>-0.055353</td>\n",
              "      <td>-0.059752</td>\n",
              "      <td>378.66</td>\n",
              "      <td>0.0</td>\n",
              "    </tr>\n",
              "    <tr>\n",
              "      <th>3</th>\n",
              "      <td>1</td>\n",
              "      <td>-0.966272</td>\n",
              "      <td>-0.185226</td>\n",
              "      <td>1.792993</td>\n",
              "      <td>-0.863291</td>\n",
              "      <td>-0.010309</td>\n",
              "      <td>1.247203</td>\n",
              "      <td>0.237609</td>\n",
              "      <td>0.377436</td>\n",
              "      <td>-1.387024</td>\n",
              "      <td>-0.054952</td>\n",
              "      <td>-0.226487</td>\n",
              "      <td>0.178228</td>\n",
              "      <td>0.507757</td>\n",
              "      <td>-0.287924</td>\n",
              "      <td>-0.631418</td>\n",
              "      <td>-1.059647</td>\n",
              "      <td>-0.684093</td>\n",
              "      <td>1.965775</td>\n",
              "      <td>-1.232622</td>\n",
              "      <td>-0.208038</td>\n",
              "      <td>-0.108300</td>\n",
              "      <td>0.005274</td>\n",
              "      <td>-0.190321</td>\n",
              "      <td>-1.175575</td>\n",
              "      <td>0.647376</td>\n",
              "      <td>-0.221929</td>\n",
              "      <td>0.062723</td>\n",
              "      <td>0.061458</td>\n",
              "      <td>123.50</td>\n",
              "      <td>0.0</td>\n",
              "    </tr>\n",
              "    <tr>\n",
              "      <th>4</th>\n",
              "      <td>2</td>\n",
              "      <td>-1.158233</td>\n",
              "      <td>0.877737</td>\n",
              "      <td>1.548718</td>\n",
              "      <td>0.403034</td>\n",
              "      <td>-0.407193</td>\n",
              "      <td>0.095921</td>\n",
              "      <td>0.592941</td>\n",
              "      <td>-0.270533</td>\n",
              "      <td>0.817739</td>\n",
              "      <td>0.753074</td>\n",
              "      <td>-0.822843</td>\n",
              "      <td>0.538196</td>\n",
              "      <td>1.345852</td>\n",
              "      <td>-1.119670</td>\n",
              "      <td>0.175121</td>\n",
              "      <td>-0.451449</td>\n",
              "      <td>-0.237033</td>\n",
              "      <td>-0.038195</td>\n",
              "      <td>0.803487</td>\n",
              "      <td>0.408542</td>\n",
              "      <td>-0.009431</td>\n",
              "      <td>0.798278</td>\n",
              "      <td>-0.137458</td>\n",
              "      <td>0.141267</td>\n",
              "      <td>-0.206010</td>\n",
              "      <td>0.502292</td>\n",
              "      <td>0.219422</td>\n",
              "      <td>0.215153</td>\n",
              "      <td>69.99</td>\n",
              "      <td>0.0</td>\n",
              "    </tr>\n",
              "  </tbody>\n",
              "</table>\n",
              "</div>"
            ],
            "text/plain": [
              "   Time        V1        V2        V3  ...         V27       V28  Amount  Class\n",
              "0     0 -1.359807 -0.072781  2.536347  ...    0.133558 -0.021053  149.62    0.0\n",
              "1     0  1.191857  0.266151  0.166480  ...   -0.008983  0.014724    2.69    0.0\n",
              "2     1 -1.358354 -1.340163  1.773209  ...   -0.055353 -0.059752  378.66    0.0\n",
              "3     1 -0.966272 -0.185226  1.792993  ...    0.062723  0.061458  123.50    0.0\n",
              "4     2 -1.158233  0.877737  1.548718  ...    0.219422  0.215153   69.99    0.0\n",
              "\n",
              "[5 rows x 31 columns]"
            ]
          },
          "metadata": {},
          "execution_count": 16
        }
      ]
    },
    {
      "cell_type": "code",
      "metadata": {
        "id": "WcXmT3ZKWSgn",
        "colab": {
          "base_uri": "https://localhost:8080/",
          "height": 224
        },
        "outputId": "b25ce3e9-6624-4c78-8947-738884bcc0d4"
      },
      "source": [
        "credit_card_data.tail()"
      ],
      "execution_count": 17,
      "outputs": [
        {
          "output_type": "execute_result",
          "data": {
            "text/html": [
              "<div>\n",
              "<style scoped>\n",
              "    .dataframe tbody tr th:only-of-type {\n",
              "        vertical-align: middle;\n",
              "    }\n",
              "\n",
              "    .dataframe tbody tr th {\n",
              "        vertical-align: top;\n",
              "    }\n",
              "\n",
              "    .dataframe thead th {\n",
              "        text-align: right;\n",
              "    }\n",
              "</style>\n",
              "<table border=\"1\" class=\"dataframe\">\n",
              "  <thead>\n",
              "    <tr style=\"text-align: right;\">\n",
              "      <th></th>\n",
              "      <th>Time</th>\n",
              "      <th>V1</th>\n",
              "      <th>V2</th>\n",
              "      <th>V3</th>\n",
              "      <th>V4</th>\n",
              "      <th>V5</th>\n",
              "      <th>V6</th>\n",
              "      <th>V7</th>\n",
              "      <th>V8</th>\n",
              "      <th>V9</th>\n",
              "      <th>V10</th>\n",
              "      <th>V11</th>\n",
              "      <th>V12</th>\n",
              "      <th>V13</th>\n",
              "      <th>V14</th>\n",
              "      <th>V15</th>\n",
              "      <th>V16</th>\n",
              "      <th>V17</th>\n",
              "      <th>V18</th>\n",
              "      <th>V19</th>\n",
              "      <th>V20</th>\n",
              "      <th>V21</th>\n",
              "      <th>V22</th>\n",
              "      <th>V23</th>\n",
              "      <th>V24</th>\n",
              "      <th>V25</th>\n",
              "      <th>V26</th>\n",
              "      <th>V27</th>\n",
              "      <th>V28</th>\n",
              "      <th>Amount</th>\n",
              "      <th>Class</th>\n",
              "    </tr>\n",
              "  </thead>\n",
              "  <tbody>\n",
              "    <tr>\n",
              "      <th>120896</th>\n",
              "      <td>75998</td>\n",
              "      <td>1.501845</td>\n",
              "      <td>-1.193147</td>\n",
              "      <td>0.066789</td>\n",
              "      <td>-1.600847</td>\n",
              "      <td>-1.259865</td>\n",
              "      <td>-0.268558</td>\n",
              "      <td>-1.122205</td>\n",
              "      <td>0.040104</td>\n",
              "      <td>-1.795060</td>\n",
              "      <td>1.652966</td>\n",
              "      <td>0.194989</td>\n",
              "      <td>-1.358298</td>\n",
              "      <td>-1.126213</td>\n",
              "      <td>0.179197</td>\n",
              "      <td>0.113693</td>\n",
              "      <td>0.116888</td>\n",
              "      <td>0.054894</td>\n",
              "      <td>0.932937</td>\n",
              "      <td>0.362373</td>\n",
              "      <td>-0.365816</td>\n",
              "      <td>-0.226430</td>\n",
              "      <td>-0.409194</td>\n",
              "      <td>-0.074263</td>\n",
              "      <td>-0.565449</td>\n",
              "      <td>0.404350</td>\n",
              "      <td>-0.168445</td>\n",
              "      <td>0.010981</td>\n",
              "      <td>0.001626</td>\n",
              "      <td>30.00</td>\n",
              "      <td>0.0</td>\n",
              "    </tr>\n",
              "    <tr>\n",
              "      <th>120897</th>\n",
              "      <td>75999</td>\n",
              "      <td>-0.340455</td>\n",
              "      <td>1.201756</td>\n",
              "      <td>1.314094</td>\n",
              "      <td>0.053134</td>\n",
              "      <td>0.111616</td>\n",
              "      <td>-0.959891</td>\n",
              "      <td>0.780107</td>\n",
              "      <td>-0.128473</td>\n",
              "      <td>-0.541652</td>\n",
              "      <td>-0.540440</td>\n",
              "      <td>-0.046205</td>\n",
              "      <td>0.434446</td>\n",
              "      <td>1.083519</td>\n",
              "      <td>-0.621462</td>\n",
              "      <td>0.787806</td>\n",
              "      <td>0.337135</td>\n",
              "      <td>-0.046551</td>\n",
              "      <td>-0.257217</td>\n",
              "      <td>-0.097948</td>\n",
              "      <td>0.176298</td>\n",
              "      <td>-0.252458</td>\n",
              "      <td>-0.609959</td>\n",
              "      <td>-0.025552</td>\n",
              "      <td>0.360654</td>\n",
              "      <td>-0.127871</td>\n",
              "      <td>0.068601</td>\n",
              "      <td>0.251848</td>\n",
              "      <td>0.100380</td>\n",
              "      <td>3.67</td>\n",
              "      <td>0.0</td>\n",
              "    </tr>\n",
              "    <tr>\n",
              "      <th>120898</th>\n",
              "      <td>75999</td>\n",
              "      <td>-1.089161</td>\n",
              "      <td>0.115364</td>\n",
              "      <td>1.501978</td>\n",
              "      <td>0.700866</td>\n",
              "      <td>0.493027</td>\n",
              "      <td>-0.220268</td>\n",
              "      <td>0.744468</td>\n",
              "      <td>0.128396</td>\n",
              "      <td>-0.983044</td>\n",
              "      <td>-0.346425</td>\n",
              "      <td>1.558146</td>\n",
              "      <td>0.906163</td>\n",
              "      <td>0.266762</td>\n",
              "      <td>0.437364</td>\n",
              "      <td>0.216303</td>\n",
              "      <td>-0.142770</td>\n",
              "      <td>-0.374534</td>\n",
              "      <td>0.114155</td>\n",
              "      <td>-0.461416</td>\n",
              "      <td>0.341030</td>\n",
              "      <td>0.391619</td>\n",
              "      <td>0.776285</td>\n",
              "      <td>0.179390</td>\n",
              "      <td>0.218712</td>\n",
              "      <td>-0.009381</td>\n",
              "      <td>-0.353213</td>\n",
              "      <td>0.082478</td>\n",
              "      <td>0.143270</td>\n",
              "      <td>130.80</td>\n",
              "      <td>0.0</td>\n",
              "    </tr>\n",
              "    <tr>\n",
              "      <th>120899</th>\n",
              "      <td>76000</td>\n",
              "      <td>0.213729</td>\n",
              "      <td>0.623136</td>\n",
              "      <td>-0.259558</td>\n",
              "      <td>-0.152127</td>\n",
              "      <td>2.262088</td>\n",
              "      <td>3.579712</td>\n",
              "      <td>-0.187220</td>\n",
              "      <td>0.877580</td>\n",
              "      <td>-0.697998</td>\n",
              "      <td>0.110297</td>\n",
              "      <td>-0.049163</td>\n",
              "      <td>-0.264467</td>\n",
              "      <td>0.135283</td>\n",
              "      <td>0.427361</td>\n",
              "      <td>1.901135</td>\n",
              "      <td>-0.066520</td>\n",
              "      <td>-0.325744</td>\n",
              "      <td>0.291245</td>\n",
              "      <td>1.960601</td>\n",
              "      <td>0.251490</td>\n",
              "      <td>-0.193588</td>\n",
              "      <td>-0.663299</td>\n",
              "      <td>0.088675</td>\n",
              "      <td>1.005326</td>\n",
              "      <td>-0.676412</td>\n",
              "      <td>0.251661</td>\n",
              "      <td>0.105658</td>\n",
              "      <td>0.088634</td>\n",
              "      <td>1.29</td>\n",
              "      <td>0.0</td>\n",
              "    </tr>\n",
              "    <tr>\n",
              "      <th>120900</th>\n",
              "      <td>76001</td>\n",
              "      <td>-0.367988</td>\n",
              "      <td>1.108999</td>\n",
              "      <td>0.787889</td>\n",
              "      <td>1.043825</td>\n",
              "      <td>-0.336914</td>\n",
              "      <td>-0.554318</td>\n",
              "      <td>0.307948</td>\n",
              "      <td>0.402319</td>\n",
              "      <td>-0.651386</td>\n",
              "      <td>-0.410158</td>\n",
              "      <td>-0.219177</td>\n",
              "      <td>-0.012535</td>\n",
              "      <td>-0.499486</td>\n",
              "      <td>0.778228</td>\n",
              "      <td>1.266075</td>\n",
              "      <td>-0.508260</td>\n",
              "      <td>0.385009</td>\n",
              "      <td>-0.365464</td>\n",
              "      <td>-0.139153</td>\n",
              "      <td>-0.179160</td>\n",
              "      <td>0.226379</td>\n",
              "      <td>0.551456</td>\n",
              "      <td>0.058382</td>\n",
              "      <td>0.394346</td>\n",
              "      <td>NaN</td>\n",
              "      <td>NaN</td>\n",
              "      <td>NaN</td>\n",
              "      <td>NaN</td>\n",
              "      <td>NaN</td>\n",
              "      <td>NaN</td>\n",
              "    </tr>\n",
              "  </tbody>\n",
              "</table>\n",
              "</div>"
            ],
            "text/plain": [
              "         Time        V1        V2  ...         V28  Amount  Class\n",
              "120896  75998  1.501845 -1.193147  ...    0.001626   30.00    0.0\n",
              "120897  75999 -0.340455  1.201756  ...    0.100380    3.67    0.0\n",
              "120898  75999 -1.089161  0.115364  ...    0.143270  130.80    0.0\n",
              "120899  76000  0.213729  0.623136  ...    0.088634    1.29    0.0\n",
              "120900  76001 -0.367988  1.108999  ...         NaN     NaN    NaN\n",
              "\n",
              "[5 rows x 31 columns]"
            ]
          },
          "metadata": {},
          "execution_count": 17
        }
      ]
    },
    {
      "cell_type": "code",
      "metadata": {
        "id": "Y4YE7WAIWmjJ",
        "colab": {
          "base_uri": "https://localhost:8080/"
        },
        "outputId": "61281b53-2c01-4126-e00d-6784395e691c"
      },
      "source": [
        "#dataset information\n",
        "credit_card_data.info()"
      ],
      "execution_count": 18,
      "outputs": [
        {
          "output_type": "stream",
          "text": [
            "<class 'pandas.core.frame.DataFrame'>\n",
            "RangeIndex: 120901 entries, 0 to 120900\n",
            "Data columns (total 31 columns):\n",
            "Time      120901 non-null int64\n",
            "V1        120901 non-null float64\n",
            "V2        120901 non-null float64\n",
            "V3        120901 non-null float64\n",
            "V4        120901 non-null float64\n",
            "V5        120901 non-null float64\n",
            "V6        120901 non-null float64\n",
            "V7        120901 non-null float64\n",
            "V8        120901 non-null float64\n",
            "V9        120901 non-null float64\n",
            "V10       120901 non-null float64\n",
            "V11       120901 non-null float64\n",
            "V12       120901 non-null float64\n",
            "V13       120901 non-null float64\n",
            "V14       120901 non-null float64\n",
            "V15       120901 non-null float64\n",
            "V16       120901 non-null float64\n",
            "V17       120901 non-null float64\n",
            "V18       120901 non-null float64\n",
            "V19       120901 non-null float64\n",
            "V20       120901 non-null float64\n",
            "V21       120901 non-null float64\n",
            "V22       120901 non-null float64\n",
            "V23       120901 non-null float64\n",
            "V24       120901 non-null float64\n",
            "V25       120900 non-null float64\n",
            "V26       120900 non-null float64\n",
            "V27       120900 non-null float64\n",
            "V28       120900 non-null float64\n",
            "Amount    120900 non-null float64\n",
            "Class     120900 non-null float64\n",
            "dtypes: float64(30), int64(1)\n",
            "memory usage: 28.6 MB\n"
          ],
          "name": "stdout"
        }
      ]
    },
    {
      "cell_type": "code",
      "metadata": {
        "id": "g61vPwJoXksW",
        "colab": {
          "base_uri": "https://localhost:8080/"
        },
        "outputId": "2f58b29a-bbb1-4386-fb7a-d841ce53f93e"
      },
      "source": [
        "#checking number of missing values in dataframes\n",
        "credit_card_data.isnull().sum()"
      ],
      "execution_count": 19,
      "outputs": [
        {
          "output_type": "execute_result",
          "data": {
            "text/plain": [
              "Time      0\n",
              "V1        0\n",
              "V2        0\n",
              "V3        0\n",
              "V4        0\n",
              "V5        0\n",
              "V6        0\n",
              "V7        0\n",
              "V8        0\n",
              "V9        0\n",
              "V10       0\n",
              "V11       0\n",
              "V12       0\n",
              "V13       0\n",
              "V14       0\n",
              "V15       0\n",
              "V16       0\n",
              "V17       0\n",
              "V18       0\n",
              "V19       0\n",
              "V20       0\n",
              "V21       0\n",
              "V22       0\n",
              "V23       0\n",
              "V24       0\n",
              "V25       1\n",
              "V26       1\n",
              "V27       1\n",
              "V28       1\n",
              "Amount    1\n",
              "Class     1\n",
              "dtype: int64"
            ]
          },
          "metadata": {},
          "execution_count": 19
        }
      ]
    },
    {
      "cell_type": "code",
      "metadata": {
        "colab": {
          "base_uri": "https://localhost:8080/"
        },
        "id": "kdDP1xBJXAeU",
        "outputId": "3991fa1b-0267-4d92-f6a7-c7608a1e8e5d"
      },
      "source": [
        "#distribution of legit and fraud transaction\n",
        "credit_card_data['Class'].value_counts()\n"
      ],
      "execution_count": 7,
      "outputs": [
        {
          "output_type": "execute_result",
          "data": {
            "text/plain": [
              "0.0    7947\n",
              "1.0      25\n",
              "Name: Class, dtype: int64"
            ]
          },
          "metadata": {},
          "execution_count": 7
        }
      ]
    },
    {
      "cell_type": "code",
      "metadata": {
        "id": "T4VAff-2g_Tx"
      },
      "source": [
        "#this dataset is highly unbalanced\n",
        "#0  for normal transaction\n",
        "#1 for fraud transaction\n"
      ],
      "execution_count": 8,
      "outputs": []
    },
    {
      "cell_type": "code",
      "metadata": {
        "colab": {
          "base_uri": "https://localhost:8080/"
        },
        "id": "k-2uA9BbhLk9",
        "outputId": "5f6a1bd8-f8dd-4391-de96-f2cb11754456"
      },
      "source": [
        "#seprating data for analysis\n",
        "legit=credit_card_data[credit_card_data.Class==0]\n",
        "fraud=credit_card_data[credit_card_data.Class==1]\n",
        "print(legit.shape)\n",
        "print(fraud.shape)"
      ],
      "execution_count": 4,
      "outputs": [
        {
          "output_type": "stream",
          "text": [
            "(25749, 31)\n",
            "(88, 31)\n"
          ],
          "name": "stdout"
        }
      ]
    },
    {
      "cell_type": "code",
      "metadata": {
        "id": "2w2NcSAsjQFx"
      },
      "source": [
        "# statistical measure of data\n",
        "legit.Amount.describe()\n"
      ],
      "execution_count": null,
      "outputs": []
    },
    {
      "cell_type": "code",
      "metadata": {
        "id": "n4XfW1FzljwF"
      },
      "source": [
        "fraud.Amount.describe()"
      ],
      "execution_count": null,
      "outputs": []
    },
    {
      "cell_type": "code",
      "metadata": {
        "id": "eYFmOUjzl_FA"
      },
      "source": [
        "#compare the values for both transaction\n",
        "credit_card_data.groupby('Class').mean()"
      ],
      "execution_count": null,
      "outputs": []
    },
    {
      "cell_type": "code",
      "metadata": {
        "id": "9gv7vZ0lmhbh"
      },
      "source": [
        "#for imbalance data here using under sampling\n",
        "# builing a sample dataset containing similar distribution of legit and fraud transition\n",
        "# Number of legit transtion = 82\n"
      ],
      "execution_count": null,
      "outputs": []
    },
    {
      "cell_type": "code",
      "metadata": {
        "id": "bySM4T8roqft",
        "colab": {
          "base_uri": "https://localhost:8080/"
        },
        "outputId": "64762c51-78e8-464d-90ab-71357185f2ef"
      },
      "source": [
        "legit_sample=legit.sample(n=82)\n",
        "legit_sample.shape"
      ],
      "execution_count": 5,
      "outputs": [
        {
          "output_type": "execute_result",
          "data": {
            "text/plain": [
              "(82, 31)"
            ]
          },
          "metadata": {},
          "execution_count": 5
        }
      ]
    },
    {
      "cell_type": "markdown",
      "metadata": {
        "id": "DmU7Ub7ppXln"
      },
      "source": [
        "concanate two data frames means add 52 fraud  datasample below the legit sample in row wise"
      ]
    },
    {
      "cell_type": "code",
      "metadata": {
        "id": "dOIGVpdjpcWS"
      },
      "source": [
        "new_dataset=pd.concat([legit_sample,fraud],axis=0)"
      ],
      "execution_count": 6,
      "outputs": []
    },
    {
      "cell_type": "code",
      "metadata": {
        "id": "xYX74HjWqFYt"
      },
      "source": [
        "print(new_dataset.shape)"
      ],
      "execution_count": null,
      "outputs": []
    },
    {
      "cell_type": "code",
      "metadata": {
        "id": "G3kVM2zWqIzu"
      },
      "source": [
        "new_dataset['Class'].value_counts()"
      ],
      "execution_count": null,
      "outputs": []
    },
    {
      "cell_type": "code",
      "metadata": {
        "id": "KrS-oIjKrMRE"
      },
      "source": [
        "new_dataset.groupby('Class').mean()"
      ],
      "execution_count": null,
      "outputs": []
    },
    {
      "cell_type": "markdown",
      "metadata": {
        "id": "4nVuv_phrwyX"
      },
      "source": [
        "splitting data into features and targets"
      ]
    },
    {
      "cell_type": "code",
      "metadata": {
        "colab": {
          "base_uri": "https://localhost:8080/"
        },
        "id": "pdti2nu_r4Wg",
        "outputId": "58f1d07a-eab0-4cab-9aa6-07ed9e20a387"
      },
      "source": [
        "x=new_dataset.drop(columns='Class',axis=1)\n",
        "y=new_dataset['Class']\n",
        "print(y)"
      ],
      "execution_count": 7,
      "outputs": [
        {
          "output_type": "stream",
          "text": [
            "8326     0.0\n",
            "3581     0.0\n",
            "23474    0.0\n",
            "21723    0.0\n",
            "18165    0.0\n",
            "3892     0.0\n",
            "3943     0.0\n",
            "8741     0.0\n",
            "6085     0.0\n",
            "14846    0.0\n",
            "1718     0.0\n",
            "9044     0.0\n",
            "17732    0.0\n",
            "2490     0.0\n",
            "21124    0.0\n",
            "16436    0.0\n",
            "4361     0.0\n",
            "14677    0.0\n",
            "10462    0.0\n",
            "25802    0.0\n",
            "15202    0.0\n",
            "24146    0.0\n",
            "7032     0.0\n",
            "14565    0.0\n",
            "18811    0.0\n",
            "2352     0.0\n",
            "15282    0.0\n",
            "6018     0.0\n",
            "2844     0.0\n",
            "20119    0.0\n",
            "        ... \n",
            "14197    1.0\n",
            "14211    1.0\n",
            "14338    1.0\n",
            "15166    1.0\n",
            "15204    1.0\n",
            "15225    1.0\n",
            "15451    1.0\n",
            "15476    1.0\n",
            "15506    1.0\n",
            "15539    1.0\n",
            "15566    1.0\n",
            "15736    1.0\n",
            "15751    1.0\n",
            "15781    1.0\n",
            "15810    1.0\n",
            "16415    1.0\n",
            "16780    1.0\n",
            "16863    1.0\n",
            "17317    1.0\n",
            "17366    1.0\n",
            "17407    1.0\n",
            "17453    1.0\n",
            "17480    1.0\n",
            "18466    1.0\n",
            "18472    1.0\n",
            "18773    1.0\n",
            "18809    1.0\n",
            "20198    1.0\n",
            "23308    1.0\n",
            "23422    1.0\n",
            "Name: Class, Length: 170, dtype: float64\n"
          ],
          "name": "stdout"
        }
      ]
    },
    {
      "cell_type": "code",
      "metadata": {
        "colab": {
          "base_uri": "https://localhost:8080/"
        },
        "id": "ZCqWg1tLURdv",
        "outputId": "81df79ac-038c-4dd4-e9fa-6a507e8d1360"
      },
      "source": [
        "x_train,x_test,y_train,y_test=train_test_split(x,y,test_size=0.20,stratify=y,random_state=2)\n",
        "print(x.shape,x_train.shape,x_test.shape)"
      ],
      "execution_count": 8,
      "outputs": [
        {
          "output_type": "stream",
          "text": [
            "(170, 30) (136, 30) (34, 30)\n"
          ],
          "name": "stdout"
        }
      ]
    },
    {
      "cell_type": "markdown",
      "metadata": {
        "id": "LHLUkP3JY5GY"
      },
      "source": [
        "model training  logistic regression\n"
      ]
    },
    {
      "cell_type": "code",
      "metadata": {
        "id": "ublcYE9UZBsc"
      },
      "source": [
        "model=LogisticRegression()"
      ],
      "execution_count": 9,
      "outputs": []
    },
    {
      "cell_type": "markdown",
      "metadata": {
        "id": "OjhafgIsZdhz"
      },
      "source": [
        "train the logistic model with training data"
      ]
    },
    {
      "cell_type": "code",
      "metadata": {
        "colab": {
          "base_uri": "https://localhost:8080/"
        },
        "id": "QVWzHw-TZhY4",
        "outputId": "f78975fb-3f01-47fd-fd91-3fb1c73d8b89"
      },
      "source": [
        "model.fit(x_train,y_train)"
      ],
      "execution_count": 10,
      "outputs": [
        {
          "output_type": "stream",
          "text": [
            "/usr/local/lib/python3.7/dist-packages/sklearn/linear_model/_logistic.py:940: ConvergenceWarning: lbfgs failed to converge (status=1):\n",
            "STOP: TOTAL NO. of ITERATIONS REACHED LIMIT.\n",
            "\n",
            "Increase the number of iterations (max_iter) or scale the data as shown in:\n",
            "    https://scikit-learn.org/stable/modules/preprocessing.html\n",
            "Please also refer to the documentation for alternative solver options:\n",
            "    https://scikit-learn.org/stable/modules/linear_model.html#logistic-regression\n",
            "  extra_warning_msg=_LOGISTIC_SOLVER_CONVERGENCE_MSG)\n"
          ],
          "name": "stderr"
        },
        {
          "output_type": "execute_result",
          "data": {
            "text/plain": [
              "LogisticRegression(C=1.0, class_weight=None, dual=False, fit_intercept=True,\n",
              "                   intercept_scaling=1, l1_ratio=None, max_iter=100,\n",
              "                   multi_class='auto', n_jobs=None, penalty='l2',\n",
              "                   random_state=None, solver='lbfgs', tol=0.0001, verbose=0,\n",
              "                   warm_start=False)"
            ]
          },
          "metadata": {},
          "execution_count": 10
        }
      ]
    },
    {
      "cell_type": "markdown",
      "metadata": {
        "id": "Lh9j0O9vkfDW"
      },
      "source": [
        "model evaluation and accuracy score\n",
        "\n",
        "```\n",
        "# This is formatted as code\n",
        "```\n",
        "\n"
      ]
    },
    {
      "cell_type": "code",
      "metadata": {
        "id": "lMf-YrM5koQD",
        "colab": {
          "base_uri": "https://localhost:8080/"
        },
        "outputId": "fc218ded-e198-4734-afd3-2ecfd198513e"
      },
      "source": [
        "x_train_prediction=model.predict(x_train)\n",
        "print(x_train_prediction)\n",
        "training_data_accuracy=accuracy_score(x_train_prediction,y_train)"
      ],
      "execution_count": 11,
      "outputs": [
        {
          "output_type": "stream",
          "text": [
            "[1. 0. 0. 1. 0. 1. 0. 0. 1. 1. 0. 1. 0. 0. 1. 1. 1. 1. 0. 1. 0. 0. 0. 1.\n",
            " 0. 1. 1. 0. 1. 0. 1. 0. 0. 1. 0. 1. 1. 0. 1. 1. 0. 0. 0. 0. 0. 0. 1. 1.\n",
            " 1. 0. 0. 1. 1. 1. 1. 0. 1. 0. 1. 1. 1. 1. 0. 0. 1. 0. 1. 0. 1. 0. 1. 0.\n",
            " 0. 0. 0. 0. 1. 0. 0. 0. 1. 0. 0. 1. 1. 0. 0. 1. 1. 1. 0. 1. 1. 0. 0. 1.\n",
            " 1. 0. 1. 0. 1. 0. 1. 1. 1. 0. 0. 0. 1. 1. 1. 0. 0. 1. 0. 1. 1. 0. 1. 0.\n",
            " 0. 0. 1. 1. 0. 1. 0. 0. 1. 1. 0. 1. 0. 0. 1. 1.]\n"
          ],
          "name": "stdout"
        }
      ]
    },
    {
      "cell_type": "code",
      "metadata": {
        "colab": {
          "base_uri": "https://localhost:8080/"
        },
        "id": "EczuOzvRkheM",
        "outputId": "b11bebf0-4d7a-4587-b4a7-4417b4c2967d"
      },
      "source": [
        "print(training_data_accuracy)"
      ],
      "execution_count": 13,
      "outputs": [
        {
          "output_type": "stream",
          "text": [
            "0.9705882352941176\n"
          ],
          "name": "stdout"
        }
      ]
    },
    {
      "cell_type": "markdown",
      "metadata": {
        "id": "aD79GnLyltWb"
      },
      "source": [
        "accuracy on test data"
      ]
    },
    {
      "cell_type": "code",
      "metadata": {
        "colab": {
          "base_uri": "https://localhost:8080/"
        },
        "id": "esVDzewdlvs8",
        "outputId": "f134cbbe-20b0-4c9b-83ad-a7e6b03be730"
      },
      "source": [
        "x_test_prediction=model.predict(x_test)\n",
        "test_data_accuracy=accuracy_score(x_test_prediction,y_test)\n",
        "print(test_data_accuracy)"
      ],
      "execution_count": 12,
      "outputs": [
        {
          "output_type": "stream",
          "text": [
            "0.9411764705882353\n"
          ],
          "name": "stdout"
        }
      ]
    },
    {
      "cell_type": "code",
      "metadata": {
        "id": "YZLeJdBWlckP"
      },
      "source": [
        ""
      ],
      "execution_count": null,
      "outputs": []
    }
  ]
}