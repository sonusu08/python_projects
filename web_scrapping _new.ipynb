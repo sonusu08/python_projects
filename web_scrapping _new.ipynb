{
 "cells": [
  {
   "cell_type": "code",
   "execution_count": 3,
   "id": "6e9f45ef-694a-48e2-b98e-277dba682108",
   "metadata": {},
   "outputs": [],
   "source": [
    "topics_url='https://github.com/topics'\n",
    "#topics_url"
   ]
  },
  {
   "cell_type": "code",
   "execution_count": 4,
   "id": "0bf5efb4-a51e-419c-b9eb-8d86bd20823e",
   "metadata": {},
   "outputs": [],
   "source": [
    "import requests"
   ]
  },
  {
   "cell_type": "code",
   "execution_count": 5,
   "id": "83e6a658-a1d6-4078-80a2-8172be42e69c",
   "metadata": {},
   "outputs": [],
   "source": [
    "response=requests.get(topics_url)\n",
    "#response"
   ]
  },
  {
   "cell_type": "code",
   "execution_count": 6,
   "id": "1a5ba7be-cbd0-4442-b6d6-ea2e8126e6fb",
   "metadata": {},
   "outputs": [],
   "source": [
    "page_contents=response.text.strip()\n",
    "#page_contents"
   ]
  },
  {
   "cell_type": "code",
   "execution_count": 7,
   "id": "31ba2e49-a2ff-459a-b25b-98211792253d",
   "metadata": {},
   "outputs": [
    {
     "name": "stdout",
     "output_type": "stream",
     "text": [
      "Requirement already satisfied: BeautifulSoup4 in /srv/conda/envs/notebook/lib/python3.7/site-packages (4.9.3)\n",
      "Requirement already satisfied: soupsieve>1.2 in /srv/conda/envs/notebook/lib/python3.7/site-packages (from BeautifulSoup4) (2.2.1)\n"
     ]
    }
   ],
   "source": [
    "!pip install BeautifulSoup4"
   ]
  },
  {
   "cell_type": "code",
   "execution_count": 8,
   "id": "a6119f4f-463d-4a74-80e5-18e27732fd78",
   "metadata": {},
   "outputs": [],
   "source": [
    "from bs4 import BeautifulSoup"
   ]
  },
  {
   "cell_type": "code",
   "execution_count": 9,
   "id": "078283b3-b1b8-49a7-bbd0-813976236be7",
   "metadata": {},
   "outputs": [],
   "source": [
    "doc=BeautifulSoup(page_contents,'html.parser')"
   ]
  },
  {
   "cell_type": "code",
   "execution_count": 10,
   "id": "40f0bc36-8941-4900-84b5-28b06f5c84d3",
   "metadata": {},
   "outputs": [],
   "source": [
    "p_tags=doc.find_all('p')\n",
    "#p_tags"
   ]
  },
  {
   "cell_type": "code",
   "execution_count": 11,
   "id": "06f9a49a-ba2c-4a9a-9649-a407f47f4e14",
   "metadata": {},
   "outputs": [
    {
     "data": {
      "text/plain": [
       "'3D'"
      ]
     },
     "execution_count": 11,
     "metadata": {},
     "output_type": "execute_result"
    }
   ],
   "source": [
    "topic_title_tags=doc.find_all('p',{'class':'f3 lh-condensed mb-0 mt-1 Link--primary'})\n",
    "topic_title_tags[0].text"
   ]
  },
  {
   "cell_type": "code",
   "execution_count": 12,
   "id": "da286953-ff45-41ae-854c-f10c1269b43b",
   "metadata": {},
   "outputs": [],
   "source": [
    "topic_desc_tags=doc.find_all('p',{'class':'f5 color-text-secondary mb-0 mt-1'})\n",
    "#topic_desc_tags"
   ]
  },
  {
   "cell_type": "code",
   "execution_count": 13,
   "id": "bd01c12f-cc5a-4199-a399-9c6b967454b8",
   "metadata": {},
   "outputs": [],
   "source": [
    "topic_link_tags=doc.find_all('a',{'class':'d-flex no-underline'})\n",
    "#topic_link_tags[0]['href']"
   ]
  },
  {
   "cell_type": "code",
   "execution_count": 14,
   "id": "0029c92a-ba6c-4430-a752-f99f93671c67",
   "metadata": {},
   "outputs": [],
   "source": [
    "base_url='https://github.com' \n",
    "topic0_url=base_url + topic_link_tags[0]['href']\n",
    "#topic0_url"
   ]
  },
  {
   "cell_type": "code",
   "execution_count": 15,
   "id": "547a32a4-6616-457c-bd20-26eac3f141a2",
   "metadata": {},
   "outputs": [],
   "source": [
    "topic_titles=[]\n",
    "for a in topic_title_tags:\n",
    "    topic_titles.append(a.text)  \n",
    "   \n",
    "#print(topic_titles)\n",
    "    "
   ]
  },
  {
   "cell_type": "code",
   "execution_count": 16,
   "id": "4c8b6075-69b1-461d-8f6f-7ec056d6c43e",
   "metadata": {},
   "outputs": [],
   "source": [
    "topic_desc=[]\n",
    "for a in topic_desc_tags:\n",
    "    topic_desc.append(a.text.strip())  \n",
    "   \n",
    "#print(topic_desc)"
   ]
  },
  {
   "cell_type": "code",
   "execution_count": 17,
   "id": "beb74c6f-746c-437b-aa0c-c4b0899bb52c",
   "metadata": {},
   "outputs": [],
   "source": [
    "topic_urls=[]\n",
    "base_url='https://github.com'\n",
    "for a in topic_link_tags:\n",
    "    topic_urls.append(base_url + a['href'])  \n",
    "\n",
    "#topic_urls"
   ]
  },
  {
   "cell_type": "code",
   "execution_count": 18,
   "id": "940c0117-ca97-4463-ab6f-efd156bf2255",
   "metadata": {},
   "outputs": [
    {
     "name": "stdout",
     "output_type": "stream",
     "text": [
      "Requirement already satisfied: pandas in /srv/conda/envs/notebook/lib/python3.7/site-packages (1.3.1)\n",
      "Requirement already satisfied: numpy>=1.17.3 in /srv/conda/envs/notebook/lib/python3.7/site-packages (from pandas) (1.21.1)\n",
      "Requirement already satisfied: python-dateutil>=2.7.3 in /srv/conda/envs/notebook/lib/python3.7/site-packages (from pandas) (2.8.1)\n",
      "Requirement already satisfied: pytz>=2017.3 in /srv/conda/envs/notebook/lib/python3.7/site-packages (from pandas) (2021.1)\n",
      "Requirement already satisfied: six>=1.5 in /srv/conda/envs/notebook/lib/python3.7/site-packages (from python-dateutil>=2.7.3->pandas) (1.15.0)\n"
     ]
    }
   ],
   "source": [
    "!pip install pandas"
   ]
  },
  {
   "cell_type": "code",
   "execution_count": 19,
   "id": "10b08c5a-1ba5-4798-bcf5-27332233ef59",
   "metadata": {},
   "outputs": [],
   "source": [
    "import pandas as pd"
   ]
  },
  {
   "cell_type": "code",
   "execution_count": 20,
   "id": "9902ea2e-bff8-4063-bf20-d09db231b8ac",
   "metadata": {},
   "outputs": [],
   "source": [
    "topic_dict={'title':topic_titles,'description':topic_desc,'url': topic_urls}\n",
    "#topic_dict"
   ]
  },
  {
   "cell_type": "code",
   "execution_count": 21,
   "id": "a6523ebc-378c-4cad-a45e-f3440daf9e8a",
   "metadata": {},
   "outputs": [],
   "source": [
    "topic_df=pd.DataFrame(topic_dict)\n",
    "#topic_df"
   ]
  },
  {
   "cell_type": "code",
   "execution_count": 29,
   "id": "509a8030-a454-4c22-af62-4ae937ac7b3b",
   "metadata": {},
   "outputs": [],
   "source": [
    "topic_df.to_csv('topic.csv',index=None)"
   ]
  },
  {
   "cell_type": "code",
   "execution_count": null,
   "id": "f4a7b862-a8e2-4ebe-b123-dd4e177393ed",
   "metadata": {},
   "outputs": [],
   "source": []
  }
 ],
 "metadata": {
  "kernelspec": {
   "display_name": "Python 3",
   "language": "python",
   "name": "python3"
  },
  "language_info": {
   "codemirror_mode": {
    "name": "ipython",
    "version": 3
   },
   "file_extension": ".py",
   "mimetype": "text/x-python",
   "name": "python",
   "nbconvert_exporter": "python",
   "pygments_lexer": "ipython3",
   "version": "3.7.8"
  }
 },
 "nbformat": 4,
 "nbformat_minor": 5
}
