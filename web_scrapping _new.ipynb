{
 "cells": [
  {
   "cell_type": "code",
   "execution_count": 1,
   "id": "6e9f45ef-694a-48e2-b98e-277dba682108",
   "metadata": {},
   "outputs": [
    {
     "data": {
      "text/plain": [
       "'https://github.com/topics'"
      ]
     },
     "execution_count": 1,
     "metadata": {},
     "output_type": "execute_result"
    }
   ],
   "source": [
    "topics_url='https://github.com/topics'\n",
    "#topics_url"
   ]
  },
  {
   "cell_type": "code",
   "execution_count": 2,
   "id": "0bf5efb4-a51e-419c-b9eb-8d86bd20823e",
   "metadata": {},
   "outputs": [],
   "source": [
    "import requests"
   ]
  },
  {
   "cell_type": "code",
   "execution_count": 3,
   "id": "83e6a658-a1d6-4078-80a2-8172be42e69c",
   "metadata": {},
   "outputs": [
    {
     "data": {
      "text/plain": [
       "<Response [200]>"
      ]
     },
     "execution_count": 3,
     "metadata": {},
     "output_type": "execute_result"
    }
   ],
   "source": [
    "response=requests.get(topics_url)\n",
    "#response"
   ]
  },
  {
   "cell_type": "code",
   "execution_count": 9,
   "id": "1a5ba7be-cbd0-4442-b6d6-ea2e8126e6fb",
   "metadata": {},
   "outputs": [],
   "source": [
    "page_contents=response.text.strip()\n",
    "#page_contents"
   ]
  },
  {
   "cell_type": "code",
   "execution_count": 11,
   "id": "31ba2e49-a2ff-459a-b25b-98211792253d",
   "metadata": {},
   "outputs": [
    {
     "name": "stdout",
     "output_type": "stream",
     "text": [
      "Collecting BeautifulSoup4\n",
      "  Downloading beautifulsoup4-4.9.3-py3-none-any.whl (115 kB)\n",
      "\u001b[K     |████████████████████████████████| 115 kB 4.3 MB/s eta 0:00:01\n",
      "\u001b[?25hCollecting soupsieve>1.2\n",
      "  Downloading soupsieve-2.2.1-py3-none-any.whl (33 kB)\n",
      "Installing collected packages: soupsieve, BeautifulSoup4\n",
      "Successfully installed BeautifulSoup4-4.9.3 soupsieve-2.2.1\n"
     ]
    }
   ],
   "source": [
    "!pip install BeautifulSoup4"
   ]
  },
  {
   "cell_type": "code",
   "execution_count": 12,
   "id": "a6119f4f-463d-4a74-80e5-18e27732fd78",
   "metadata": {},
   "outputs": [],
   "source": [
    "from bs4 import BeautifulSoup"
   ]
  },
  {
   "cell_type": "code",
   "execution_count": 16,
   "id": "078283b3-b1b8-49a7-bbd0-813976236be7",
   "metadata": {},
   "outputs": [],
   "source": [
    "doc=BeautifulSoup(page_contents,'html.parser')"
   ]
  },
  {
   "cell_type": "code",
   "execution_count": 19,
   "id": "40f0bc36-8941-4900-84b5-28b06f5c84d3",
   "metadata": {},
   "outputs": [],
   "source": [
    "p_tags=doc.find_all('p')\n",
    "#p_tags"
   ]
  },
  {
   "cell_type": "code",
   "execution_count": 64,
   "id": "06f9a49a-ba2c-4a9a-9649-a407f47f4e14",
   "metadata": {},
   "outputs": [
    {
     "data": {
      "text/plain": [
       "'3D'"
      ]
     },
     "execution_count": 64,
     "metadata": {},
     "output_type": "execute_result"
    }
   ],
   "source": [
    "topic_title_tags=doc.find_all('p',{'class':'f3 lh-condensed mb-0 mt-1 Link--primary'})\n",
    "topic_title_tags[0].text"
   ]
  },
  {
   "cell_type": "code",
   "execution_count": 24,
   "id": "da286953-ff45-41ae-854c-f10c1269b43b",
   "metadata": {},
   "outputs": [],
   "source": [
    "topic_desc_tags=doc.find_all('p',{'class':'f5 color-text-secondary mb-0 mt-1'})\n",
    "#topic_desc_tags"
   ]
  },
  {
   "cell_type": "code",
   "execution_count": 38,
   "id": "bd01c12f-cc5a-4199-a399-9c6b967454b8",
   "metadata": {},
   "outputs": [
    {
     "data": {
      "text/plain": [
       "'/topics/3d'"
      ]
     },
     "execution_count": 38,
     "metadata": {},
     "output_type": "execute_result"
    }
   ],
   "source": [
    "topic_link_tags=doc.find_all('a',{'class':'d-flex no-underline'})\n",
    "#topic_link_tags[0]['href']"
   ]
  },
  {
   "cell_type": "code",
   "execution_count": 37,
   "id": "0029c92a-ba6c-4430-a752-f99f93671c67",
   "metadata": {},
   "outputs": [
    {
     "data": {
      "text/plain": [
       "'https://github.com/topics/3d'"
      ]
     },
     "execution_count": 37,
     "metadata": {},
     "output_type": "execute_result"
    }
   ],
   "source": [
    "base_url='https://github.com' \n",
    "topic0_url=base_url + topic_link_tags[0]['href']\n",
    "#topic0_url"
   ]
  },
  {
   "cell_type": "code",
   "execution_count": 70,
   "id": "547a32a4-6616-457c-bd20-26eac3f141a2",
   "metadata": {},
   "outputs": [],
   "source": [
    "topic_titles=[]\n",
    "for a in topic_title_tags:\n",
    "    topic_titles.append(a.text)  \n",
    "   \n",
    "#print(topic_titles)\n",
    "    "
   ]
  },
  {
   "cell_type": "code",
   "execution_count": 75,
   "id": "4c8b6075-69b1-461d-8f6f-7ec056d6c43e",
   "metadata": {},
   "outputs": [],
   "source": [
    "topic_desc=[]\n",
    "for a in topic_desc_tags:\n",
    "    topic_desc.append(a.text.strip())  \n",
    "   \n",
    "#print(topic_desc)"
   ]
  },
  {
   "cell_type": "code",
   "execution_count": 77,
   "id": "beb74c6f-746c-437b-aa0c-c4b0899bb52c",
   "metadata": {},
   "outputs": [
    {
     "data": {
      "text/plain": [
       "['https://github.com/topics/3d',\n",
       " 'https://github.com/topics/ajax',\n",
       " 'https://github.com/topics/algorithm',\n",
       " 'https://github.com/topics/amphp',\n",
       " 'https://github.com/topics/android',\n",
       " 'https://github.com/topics/angular',\n",
       " 'https://github.com/topics/ansible',\n",
       " 'https://github.com/topics/api',\n",
       " 'https://github.com/topics/arduino',\n",
       " 'https://github.com/topics/aspnet',\n",
       " 'https://github.com/topics/atom',\n",
       " 'https://github.com/topics/awesome',\n",
       " 'https://github.com/topics/aws',\n",
       " 'https://github.com/topics/azure',\n",
       " 'https://github.com/topics/babel',\n",
       " 'https://github.com/topics/bash',\n",
       " 'https://github.com/topics/bitcoin',\n",
       " 'https://github.com/topics/bootstrap',\n",
       " 'https://github.com/topics/bot',\n",
       " 'https://github.com/topics/c',\n",
       " 'https://github.com/topics/chrome',\n",
       " 'https://github.com/topics/chrome-extension',\n",
       " 'https://github.com/topics/cli',\n",
       " 'https://github.com/topics/clojure',\n",
       " 'https://github.com/topics/code-quality',\n",
       " 'https://github.com/topics/code-review',\n",
       " 'https://github.com/topics/compiler',\n",
       " 'https://github.com/topics/continuous-integration',\n",
       " 'https://github.com/topics/covid-19',\n",
       " 'https://github.com/topics/cpp']"
      ]
     },
     "execution_count": 77,
     "metadata": {},
     "output_type": "execute_result"
    }
   ],
   "source": [
    "topic_urls=[]\n",
    "base_url='https://github.com'\n",
    "for a in topic_link_tags:\n",
    "    topic_urls.append(base_url + a['href'])  \n",
    "\n",
    "#topic_urls"
   ]
  },
  {
   "cell_type": "code",
   "execution_count": null,
   "id": "940c0117-ca97-4463-ab6f-efd156bf2255",
   "metadata": {},
   "outputs": [],
   "source": []
  }
 ],
 "metadata": {
  "kernelspec": {
   "display_name": "Python 3",
   "language": "python",
   "name": "python3"
  },
  "language_info": {
   "codemirror_mode": {
    "name": "ipython",
    "version": 3
   },
   "file_extension": ".py",
   "mimetype": "text/x-python",
   "name": "python",
   "nbconvert_exporter": "python",
   "pygments_lexer": "ipython3",
   "version": "3.7.8"
  }
 },
 "nbformat": 4,
 "nbformat_minor": 5
}
